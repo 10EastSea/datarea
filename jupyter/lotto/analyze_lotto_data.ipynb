{
 "cells": [
  {
   "cell_type": "markdown",
   "id": "adb6b72f-7826-4bd7-8e30-f9019281056c",
   "metadata": {},
   "source": [
    "**로또 번호 스키마**\n",
    "- drwNo:           [회차번호]\n",
    "- returnValue:     \"success\" or \"fail\"\n",
    "- drwNoDate:       [날짜]\n",
    "- totSellamnt:     [누적 상금]\n",
    "- firstAccumamnt:  [총 1등 당첨금]\n",
    "- firstPrzwnerCo:  [1등 인원수]\n",
    "- firstWinamnt:    [1등 수령액]\n",
    "- drwtNo1:         [1번 번호]\n",
    "- drwtNo2:         [2번 번호]\n",
    "- drwtNo3:         [3번 번호]\n",
    "- drwtNo4:         [4번 번호]\n",
    "- drwtNo5:         [5번 번호]\n",
    "- drwtNo6:         [6번 번호]\n",
    "- bnusNo:          [보너스 번호]"
   ]
  },
  {
   "cell_type": "code",
   "execution_count": 1,
   "id": "4544ccb2-dc0e-40bc-bb31-f5cb4dc69c4e",
   "metadata": {
    "tags": []
   },
   "outputs": [
    {
     "data": {
      "text/html": [
       "<div>\n",
       "<style scoped>\n",
       "    .dataframe tbody tr th:only-of-type {\n",
       "        vertical-align: middle;\n",
       "    }\n",
       "\n",
       "    .dataframe tbody tr th {\n",
       "        vertical-align: top;\n",
       "    }\n",
       "\n",
       "    .dataframe thead th {\n",
       "        text-align: right;\n",
       "    }\n",
       "</style>\n",
       "<table border=\"1\" class=\"dataframe\">\n",
       "  <thead>\n",
       "    <tr style=\"text-align: right;\">\n",
       "      <th></th>\n",
       "      <th>drwNo</th>\n",
       "      <th>returnValue</th>\n",
       "      <th>drwNoDate</th>\n",
       "      <th>totSellamnt</th>\n",
       "      <th>firstAccumamnt</th>\n",
       "      <th>firstPrzwnerCo</th>\n",
       "      <th>firstWinamnt</th>\n",
       "      <th>drwtNo1</th>\n",
       "      <th>drwtNo2</th>\n",
       "      <th>drwtNo3</th>\n",
       "      <th>drwtNo4</th>\n",
       "      <th>drwtNo5</th>\n",
       "      <th>drwtNo6</th>\n",
       "      <th>bnusNo</th>\n",
       "    </tr>\n",
       "  </thead>\n",
       "  <tbody>\n",
       "    <tr>\n",
       "      <th>0</th>\n",
       "      <td>1</td>\n",
       "      <td>success</td>\n",
       "      <td>2002-12-07</td>\n",
       "      <td>3681782000</td>\n",
       "      <td>863604600</td>\n",
       "      <td>0</td>\n",
       "      <td>0</td>\n",
       "      <td>10</td>\n",
       "      <td>23</td>\n",
       "      <td>29</td>\n",
       "      <td>33</td>\n",
       "      <td>37</td>\n",
       "      <td>40</td>\n",
       "      <td>16</td>\n",
       "    </tr>\n",
       "    <tr>\n",
       "      <th>1</th>\n",
       "      <td>2</td>\n",
       "      <td>success</td>\n",
       "      <td>2002-12-14</td>\n",
       "      <td>4904274000</td>\n",
       "      <td>0</td>\n",
       "      <td>1</td>\n",
       "      <td>2002006800</td>\n",
       "      <td>9</td>\n",
       "      <td>13</td>\n",
       "      <td>21</td>\n",
       "      <td>25</td>\n",
       "      <td>32</td>\n",
       "      <td>42</td>\n",
       "      <td>2</td>\n",
       "    </tr>\n",
       "    <tr>\n",
       "      <th>2</th>\n",
       "      <td>3</td>\n",
       "      <td>success</td>\n",
       "      <td>2002-12-21</td>\n",
       "      <td>4729342000</td>\n",
       "      <td>0</td>\n",
       "      <td>1</td>\n",
       "      <td>2000000000</td>\n",
       "      <td>11</td>\n",
       "      <td>16</td>\n",
       "      <td>19</td>\n",
       "      <td>21</td>\n",
       "      <td>27</td>\n",
       "      <td>31</td>\n",
       "      <td>30</td>\n",
       "    </tr>\n",
       "    <tr>\n",
       "      <th>3</th>\n",
       "      <td>4</td>\n",
       "      <td>success</td>\n",
       "      <td>2002-12-28</td>\n",
       "      <td>5271464000</td>\n",
       "      <td>1267147200</td>\n",
       "      <td>0</td>\n",
       "      <td>0</td>\n",
       "      <td>14</td>\n",
       "      <td>27</td>\n",
       "      <td>30</td>\n",
       "      <td>31</td>\n",
       "      <td>40</td>\n",
       "      <td>42</td>\n",
       "      <td>2</td>\n",
       "    </tr>\n",
       "    <tr>\n",
       "      <th>4</th>\n",
       "      <td>5</td>\n",
       "      <td>success</td>\n",
       "      <td>2003-01-04</td>\n",
       "      <td>6277102000</td>\n",
       "      <td>3041094900</td>\n",
       "      <td>0</td>\n",
       "      <td>0</td>\n",
       "      <td>16</td>\n",
       "      <td>24</td>\n",
       "      <td>29</td>\n",
       "      <td>40</td>\n",
       "      <td>41</td>\n",
       "      <td>42</td>\n",
       "      <td>3</td>\n",
       "    </tr>\n",
       "    <tr>\n",
       "      <th>...</th>\n",
       "      <td>...</td>\n",
       "      <td>...</td>\n",
       "      <td>...</td>\n",
       "      <td>...</td>\n",
       "      <td>...</td>\n",
       "      <td>...</td>\n",
       "      <td>...</td>\n",
       "      <td>...</td>\n",
       "      <td>...</td>\n",
       "      <td>...</td>\n",
       "      <td>...</td>\n",
       "      <td>...</td>\n",
       "      <td>...</td>\n",
       "      <td>...</td>\n",
       "    </tr>\n",
       "    <tr>\n",
       "      <th>1071</th>\n",
       "      <td>1072</td>\n",
       "      <td>success</td>\n",
       "      <td>2023-06-17</td>\n",
       "      <td>108156654000</td>\n",
       "      <td>26100076500</td>\n",
       "      <td>12</td>\n",
       "      <td>2175006375</td>\n",
       "      <td>16</td>\n",
       "      <td>18</td>\n",
       "      <td>20</td>\n",
       "      <td>23</td>\n",
       "      <td>32</td>\n",
       "      <td>43</td>\n",
       "      <td>27</td>\n",
       "    </tr>\n",
       "    <tr>\n",
       "      <th>1072</th>\n",
       "      <td>1073</td>\n",
       "      <td>success</td>\n",
       "      <td>2023-06-24</td>\n",
       "      <td>107352123000</td>\n",
       "      <td>25797503633</td>\n",
       "      <td>11</td>\n",
       "      <td>2345227603</td>\n",
       "      <td>6</td>\n",
       "      <td>18</td>\n",
       "      <td>28</td>\n",
       "      <td>30</td>\n",
       "      <td>32</td>\n",
       "      <td>38</td>\n",
       "      <td>15</td>\n",
       "    </tr>\n",
       "    <tr>\n",
       "      <th>1073</th>\n",
       "      <td>1074</td>\n",
       "      <td>success</td>\n",
       "      <td>2023-07-01</td>\n",
       "      <td>105744157000</td>\n",
       "      <td>25617163884</td>\n",
       "      <td>12</td>\n",
       "      <td>2134763657</td>\n",
       "      <td>1</td>\n",
       "      <td>6</td>\n",
       "      <td>20</td>\n",
       "      <td>27</td>\n",
       "      <td>28</td>\n",
       "      <td>41</td>\n",
       "      <td>15</td>\n",
       "    </tr>\n",
       "    <tr>\n",
       "      <th>1074</th>\n",
       "      <td>1075</td>\n",
       "      <td>success</td>\n",
       "      <td>2023-07-08</td>\n",
       "      <td>105635232000</td>\n",
       "      <td>26067034503</td>\n",
       "      <td>9</td>\n",
       "      <td>2896337167</td>\n",
       "      <td>1</td>\n",
       "      <td>23</td>\n",
       "      <td>24</td>\n",
       "      <td>35</td>\n",
       "      <td>44</td>\n",
       "      <td>45</td>\n",
       "      <td>10</td>\n",
       "    </tr>\n",
       "    <tr>\n",
       "      <th>1075</th>\n",
       "      <td>1076</td>\n",
       "      <td>success</td>\n",
       "      <td>2023-07-15</td>\n",
       "      <td>103168694000</td>\n",
       "      <td>24054207750</td>\n",
       "      <td>9</td>\n",
       "      <td>2672689750</td>\n",
       "      <td>3</td>\n",
       "      <td>7</td>\n",
       "      <td>9</td>\n",
       "      <td>33</td>\n",
       "      <td>36</td>\n",
       "      <td>37</td>\n",
       "      <td>10</td>\n",
       "    </tr>\n",
       "  </tbody>\n",
       "</table>\n",
       "<p>1076 rows × 14 columns</p>\n",
       "</div>"
      ],
      "text/plain": [
       "      drwNo returnValue  drwNoDate   totSellamnt  firstAccumamnt  \\\n",
       "0         1     success 2002-12-07    3681782000       863604600   \n",
       "1         2     success 2002-12-14    4904274000               0   \n",
       "2         3     success 2002-12-21    4729342000               0   \n",
       "3         4     success 2002-12-28    5271464000      1267147200   \n",
       "4         5     success 2003-01-04    6277102000      3041094900   \n",
       "...     ...         ...        ...           ...             ...   \n",
       "1071   1072     success 2023-06-17  108156654000     26100076500   \n",
       "1072   1073     success 2023-06-24  107352123000     25797503633   \n",
       "1073   1074     success 2023-07-01  105744157000     25617163884   \n",
       "1074   1075     success 2023-07-08  105635232000     26067034503   \n",
       "1075   1076     success 2023-07-15  103168694000     24054207750   \n",
       "\n",
       "      firstPrzwnerCo  firstWinamnt  drwtNo1  drwtNo2  drwtNo3  drwtNo4  \\\n",
       "0                  0             0       10       23       29       33   \n",
       "1                  1    2002006800        9       13       21       25   \n",
       "2                  1    2000000000       11       16       19       21   \n",
       "3                  0             0       14       27       30       31   \n",
       "4                  0             0       16       24       29       40   \n",
       "...              ...           ...      ...      ...      ...      ...   \n",
       "1071              12    2175006375       16       18       20       23   \n",
       "1072              11    2345227603        6       18       28       30   \n",
       "1073              12    2134763657        1        6       20       27   \n",
       "1074               9    2896337167        1       23       24       35   \n",
       "1075               9    2672689750        3        7        9       33   \n",
       "\n",
       "      drwtNo5  drwtNo6  bnusNo  \n",
       "0          37       40      16  \n",
       "1          32       42       2  \n",
       "2          27       31      30  \n",
       "3          40       42       2  \n",
       "4          41       42       3  \n",
       "...       ...      ...     ...  \n",
       "1071       32       43      27  \n",
       "1072       32       38      15  \n",
       "1073       28       41      15  \n",
       "1074       44       45      10  \n",
       "1075       36       37      10  \n",
       "\n",
       "[1076 rows x 14 columns]"
      ]
     },
     "execution_count": 1,
     "metadata": {},
     "output_type": "execute_result"
    }
   ],
   "source": [
    "import datetime\n",
    "\n",
    "import matplotlib.pyplot as plt\n",
    "import pandas as pd\n",
    "\n",
    "lotto_df = pd.read_csv(\"./data/lotto.tsv\", sep=\"\\t\")\n",
    "lotto_df[\"drwNoDate\"] = pd.to_datetime(lotto_df[\"drwNoDate\"])\n",
    "lotto_df"
   ]
  },
  {
   "cell_type": "markdown",
   "id": "8f0eddde-b0f7-41d8-a504-920ac081369b",
   "metadata": {},
   "source": [
    "## 날짜별 1등 당첨자 수"
   ]
  },
  {
   "cell_type": "code",
   "execution_count": 2,
   "id": "9a593e46-2349-4a30-a2fe-f4c759242768",
   "metadata": {
    "tags": []
   },
   "outputs": [
    {
     "data": {
      "image/png": "[encoded data removed]",
      "text/plain": [
       "<Figure size 864x288 with 1 Axes>"
      ]
     },
     "metadata": {
      "needs_background": "light"
     },
     "output_type": "display_data"
    }
   ],
   "source": [
    "# 전체 기간\n",
    "plt.figure(figsize=(12, 4))\n",
    "\n",
    "plt.plot(lotto_df[\"drwNoDate\"], lotto_df[\"firstPrzwnerCo\"])\n",
    "plt.show()"
   ]
  },
  {
   "cell_type": "code",
   "execution_count": 3,
   "id": "c1dc8d89-ae76-49bc-a238-6f27be036713",
   "metadata": {
    "tags": []
   },
   "outputs": [
    {
     "data": {
      "image/png": "[encoded data removed]",
      "text/plain": [
       "<Figure size 864x288 with 1 Axes>"
      ]
     },
     "metadata": {
      "needs_background": "light"
     },
     "output_type": "display_data"
    }
   ],
   "source": [
    "# 23년도 부터 현재까지\n",
    "plt.figure(figsize=(12, 4))\n",
    "plt.xlim([datetime.datetime(2023, 1, 1), datetime.datetime.today()])\n",
    "\n",
    "plt.plot(lotto_df[\"drwNoDate\"], lotto_df[\"firstPrzwnerCo\"])\n",
    "plt.show()"
   ]
  },
  {
   "cell_type": "markdown",
   "id": "8bd49ce7-77a2-41bf-9c0b-3538c54ec1f3",
   "metadata": {},
   "source": [
    "## 번호별 빈도 수"
   ]
  },
  {
   "cell_type": "code",
   "execution_count": 5,
   "id": "cdeeb986-eebd-47fa-b3a4-27d41e45bbfa",
   "metadata": {
    "tags": []
   },
   "outputs": [],
   "source": [
    "# 번호 dict 생성\n",
    "MIN_LOTTO_NUM, MAX_LOTTO_NUM = 1, 45\n",
    "MIN_LOTTO_NO,  MAX_LOTTO_NO  = 1, 6\n",
    "\n",
    "num_dict = {num : 0 for num in range(MIN_LOTTO_NUM, MAX_LOTTO_NUM+1)}\n",
    "\n",
    "for idx, row in lotto_df.iterrows():\n",
    "  for n in range(MIN_LOTTO_NO, MAX_LOTTO_NO+1):\n",
    "    num_dict[row[\"drwtNo\" + str(n)]] += 1\n",
    "\n",
    "# print(num_dict)"
   ]
  },
  {
   "cell_type": "code",
   "execution_count": 6,
   "id": "3c0fec47-e0b5-4d0b-be12-10703bdf3509",
   "metadata": {
    "tags": []
   },
   "outputs": [
    {
     "data": {
      "image/png": "[encoded data removed]",
      "text/plain": [
       "<Figure size 864x288 with 1 Axes>"
      ]
     },
     "metadata": {
      "needs_background": "light"
     },
     "output_type": "display_data"
    }
   ],
   "source": [
    "# 전체\n",
    "plt.figure(figsize=(12, 4))\n",
    "plt.xticks(list(num_dict.keys()))\n",
    "\n",
    "plt.bar(num_dict.keys(), num_dict.values())\n",
    "plt.show()"
   ]
  },
  {
   "cell_type": "code",
   "execution_count": 7,
   "id": "770f8899-2513-4559-8148-23a2bb9e0a03",
   "metadata": {
    "tags": []
   },
   "outputs": [
    {
     "data": {
      "image/png": "[encoded data removed]",
      "text/plain": [
       "<Figure size 288x288 with 1 Axes>"
      ]
     },
     "metadata": {
      "needs_background": "light"
     },
     "output_type": "display_data"
    }
   ],
   "source": [
    "# 최대/최소\n",
    "max_k_v_list = [(k, v) for k, v in num_dict.items() if max(num_dict.values()) == v]\n",
    "min_k_v_list = [(k, v) for k, v in num_dict.items() if min(num_dict.values()) == v]\n",
    "x_list, y_list = [], []\n",
    "for max_k_v, min_k_v in zip(max_k_v_list, min_k_v_list):\n",
    "  x_list.append(str(max_k_v[0]))\n",
    "  y_list.append(max_k_v[1])\n",
    "  x_list.insert(0, str(min_k_v[0]))\n",
    "  y_list.insert(0, min_k_v[1])\n",
    "\n",
    "plt.figure(figsize=(4, 4))\n",
    "plt.yticks(y_list)\n",
    "\n",
    "plt.bar(x_list, y_list)\n",
    "plt.show()"
   ]
  },
  {
   "cell_type": "code",
   "execution_count": null,
   "id": "8e76cdcc-2eb7-49e6-9dec-8c2437c9d3ea",
   "metadata": {},
   "outputs": [],
   "source": []
  }
 ],
 "metadata": {
  "kernelspec": {
   "display_name": "Python 3",
   "language": "python",
   "name": "python3"
  },
  "language_info": {
   "codemirror_mode": {
    "name": "ipython",
    "version": 3
   },
   "file_extension": ".py",
   "mimetype": "text/x-python",
   "name": "python",
   "nbconvert_exporter": "python",
   "pygments_lexer": "ipython3",
   "version": "3.7.4"
  }
 },
 "nbformat": 4,
 "nbformat_minor": 5
}

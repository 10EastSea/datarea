{
 "cells": [
  {
   "cell_type": "code",
   "execution_count": 1,
   "id": "ebcef73b-32c9-4ee3-acff-510f02dc4847",
   "metadata": {
    "tags": []
   },
   "outputs": [
    {
     "name": "stdout",
     "output_type": "stream",
     "text": [
      "Python 3.7.4\n"
     ]
    }
   ],
   "source": [
    "!python --version"
   ]
  },
  {
   "cell_type": "code",
   "execution_count": 2,
   "id": "dc0e5e9d-cff9-4eb1-b2bd-fa16dd56a06e",
   "metadata": {
    "tags": []
   },
   "outputs": [
    {
     "name": "stdout",
     "output_type": "stream",
     "text": [
      "pip 20.2.4 from /usr/local/lib/python3.7/site-packages/pip (python 3.7)\n"
     ]
    }
   ],
   "source": [
    "!pip --version"
   ]
  },
  {
   "cell_type": "code",
   "execution_count": 3,
   "id": "1b1cbfce-5d3a-48ed-8e21-3657177608e6",
   "metadata": {
    "tags": []
   },
   "outputs": [
    {
     "name": "stdout",
     "output_type": "stream",
     "text": [
      "Package                Version\n",
      "---------------------- -----------\n",
      "absl-py                0.11.0\n",
      "aiofiles               22.1.0\n",
      "aiosqlite              0.19.0\n",
      "anyio                  3.7.1\n",
      "argon2-cffi            20.1.0\n",
      "arrow                  1.2.3\n",
      "astroid                2.4.2\n",
      "astunparse             1.6.3\n",
      "async-generator        1.10\n",
      "attrs                  20.2.0\n",
      "Babel                  2.12.1\n",
      "backcall               0.2.0\n",
      "beautifulsoup4         4.12.2\n",
      "bleach                 3.2.1\n",
      "bokeh                  2.2.3\n",
      "cached-property        1.5.2\n",
      "cachetools             4.1.1\n",
      "certifi                2020.6.20\n",
      "cffi                   1.14.3\n",
      "chardet                3.0.4\n",
      "charset-normalizer     3.2.0\n",
      "click                  7.1.2\n",
      "cycler                 0.10.0\n",
      "decorator              4.4.2\n",
      "defusedxml             0.6.0\n",
      "Django                 2.2.4\n",
      "entrypoints            0.3\n",
      "exceptiongroup         1.1.2\n",
      "fastjsonschema         2.17.1\n",
      "flake8                 3.8.4\n",
      "Flask                  1.1.2\n",
      "fqdn                   1.5.1\n",
      "gast                   0.3.3\n",
      "google-auth            1.23.0\n",
      "google-auth-oauthlib   0.4.2\n",
      "google-pasta           0.2.0\n",
      "graphviz               0.8.4\n",
      "grpcio                 1.33.2\n",
      "h5py                   3.0.0\n",
      "idna                   2.10\n",
      "imageio                2.9.0\n",
      "importlib-metadata     6.7.0\n",
      "importlib-resources    5.12.0\n",
      "ipykernel              5.3.4\n",
      "ipython                7.19.0\n",
      "ipython-genutils       0.2.0\n",
      "ipywidgets             7.5.1\n",
      "isoduration            20.11.0\n",
      "isort                  5.6.4\n",
      "itsdangerous           1.1.0\n",
      "jedi                   0.17.2\n",
      "Jinja2                 3.1.2\n",
      "joblib                 0.17.0\n",
      "json5                  0.9.14\n",
      "jsonpointer            2.4\n",
      "jsonschema             4.17.3\n",
      "jupyter                1.0.0\n",
      "jupyter-client         7.4.9\n",
      "jupyter-console        6.2.0\n",
      "jupyter-core           4.12.0\n",
      "jupyter-events         0.6.3\n",
      "jupyter-server         1.24.0\n",
      "jupyter-server-fileid  0.9.0\n",
      "jupyter-server-ydoc    0.8.0\n",
      "jupyter-ydoc           0.2.4\n",
      "jupyterlab             3.6.5\n",
      "jupyterlab-pygments    0.1.2\n",
      "jupyterlab-server      2.23.0\n",
      "Keras                  2.4.3\n",
      "Keras-Preprocessing    1.1.2\n",
      "kiwisolver             1.3.1\n",
      "lazy-object-proxy      1.4.3\n",
      "llvmlite               0.34.0\n",
      "Markdown               3.3.3\n",
      "MarkupSafe             2.1.3\n",
      "matplotlib             3.3.2\n",
      "mccabe                 0.6.1\n",
      "mistune                3.0.1\n",
      "mpmath                 1.1.0\n",
      "mxnet                  1.7.0.post1\n",
      "nbclassic              1.0.0\n",
      "nbclient               0.5.1\n",
      "nbconvert              7.6.0\n",
      "nbformat               5.8.0\n",
      "nest-asyncio           1.5.6\n",
      "networkx               2.5\n",
      "notebook               6.1.4\n",
      "notebook-shim          0.2.3\n",
      "numba                  0.51.2\n",
      "numpy                  1.19.4\n",
      "oauthlib               3.1.0\n",
      "opt-einsum             3.3.0\n",
      "packaging              23.1\n",
      "pandas                 1.1.4\n",
      "pandocfilters          1.4.3\n",
      "parso                  0.7.1\n",
      "patsy                  0.5.1\n",
      "pexpect                4.8.0\n",
      "pickleshare            0.7.5\n",
      "Pillow                 8.0.1\n",
      "pip                    20.2.4\n",
      "pkgutil-resolve-name   1.3.10\n",
      "prometheus-client      0.8.0\n",
      "prompt-toolkit         3.0.8\n",
      "protobuf               3.13.0\n",
      "ptyprocess             0.6.0\n",
      "py4j                   0.10.9\n",
      "pyasn1                 0.4.8\n",
      "pyasn1-modules         0.2.8\n",
      "pycodestyle            2.6.0\n",
      "pycparser              2.20\n",
      "pyflakes               2.2.0\n",
      "pygame                 2.0.0\n",
      "Pygments               2.7.2\n",
      "pylint                 2.6.0\n",
      "pyparsing              2.4.7\n",
      "PyQt5                  5.15.1\n",
      "PyQt5-sip              12.8.1\n",
      "pyrsistent             0.17.3\n",
      "pyspark                3.0.1\n",
      "python-dateutil        2.8.2\n",
      "python-json-logger     2.0.7\n",
      "pytz                   2020.4\n",
      "PyWavelets             1.1.1\n",
      "PyYAML                 5.3.1\n",
      "pyzmq                  25.1.0\n",
      "qtconsole              4.7.7\n",
      "QtPy                   1.9.0\n",
      "requests               2.31.0\n",
      "requests-oauthlib      1.3.0\n",
      "rfc3339-validator      0.1.4\n",
      "rfc3986-validator      0.1.1\n",
      "rsa                    4.6\n",
      "scikit-image           0.17.2\n",
      "scikit-learn           0.23.2\n",
      "scipy                  1.5.3\n",
      "seaborn                0.11.0\n",
      "Send2Trash             1.8.2\n",
      "setuptools             50.3.2\n",
      "six                    1.15.0\n",
      "sniffio                1.3.0\n",
      "soupsieve              2.4.1\n",
      "sqlparse               0.4.1\n",
      "statsmodels            0.12.1\n",
      "sympy                  1.6.2\n",
      "tensorboard            2.3.0\n",
      "tensorboard-plugin-wit 1.7.0\n",
      "tensorflow             2.3.1\n",
      "tensorflow-estimator   2.3.0\n",
      "termcolor              1.1.0\n",
      "terminado              0.9.1\n",
      "testpath               0.4.4\n",
      "threadpoolctl          2.1.0\n",
      "tifffile               2020.10.1\n",
      "tinycss2               1.2.1\n",
      "toml                   0.10.2\n",
      "tomli                  2.0.1\n",
      "torch                  1.3.1+cpu\n",
      "torchvision            0.4.2+cpu\n",
      "tornado                6.2\n",
      "tqdm                   4.51.0\n",
      "traitlets              5.9.0\n",
      "typed-ast              1.4.1\n",
      "typing-extensions      4.7.1\n",
      "uri-template           1.3.0\n",
      "urllib3                1.25.11\n",
      "wcwidth                0.2.5\n",
      "webcolors              1.13\n",
      "webencodings           0.5.1\n",
      "websocket-client       1.6.1\n",
      "Werkzeug               1.0.1\n",
      "wheel                  0.35.1\n",
      "widgetsnbextension     3.5.1\n",
      "wrapt                  1.12.1\n",
      "y-py                   0.5.9\n",
      "ypy-websocket          0.8.2\n",
      "zipp                   3.4.0\n",
      "\u001b[33mWARNING: You are using pip version 20.2.4; however, version 23.2 is available.\n",
      "You should consider upgrading via the '/usr/local/bin/python3.7 -m pip install --upgrade pip' command.\u001b[0m\n"
     ]
    }
   ],
   "source": [
    "!pip list"
   ]
  },
  {
   "cell_type": "code",
   "execution_count": 4,
   "id": "a0fe85c8-12ce-4620-b2c9-3a63c7d1db1e",
   "metadata": {
    "tags": []
   },
   "outputs": [
    {
     "name": "stdout",
     "output_type": "stream",
     "text": [
      "Selected Jupyter core packages...\n",
      "IPython          : 7.19.0\n",
      "ipykernel        : 5.3.4\n",
      "ipywidgets       : 7.5.1\n",
      "jupyter_client   : 7.4.9\n",
      "jupyter_core     : 4.12.0\n",
      "jupyter_server   : 1.24.0\n",
      "jupyterlab       : 3.6.5\n",
      "nbclient         : 0.5.1\n",
      "nbconvert        : 7.6.0\n",
      "nbformat         : 5.8.0\n",
      "notebook         : 6.1.4\n",
      "qtconsole        : 4.7.7\n",
      "traitlets        : 5.9.0\n"
     ]
    }
   ],
   "source": [
    "!jupyter --version"
   ]
  },
  {
   "cell_type": "code",
   "execution_count": null,
   "id": "1db930cd-48e8-47a3-860a-edb42d6c9c84",
   "metadata": {},
   "outputs": [],
   "source": []
  }
 ],
 "metadata": {
  "kernelspec": {
   "display_name": "Python 3",
   "language": "python",
   "name": "python3"
  },
  "language_info": {
   "codemirror_mode": {
    "name": "ipython",
    "version": 3
   },
   "file_extension": ".py",
   "mimetype": "text/x-python",
   "name": "python",
   "nbconvert_exporter": "python",
   "pygments_lexer": "ipython3",
   "version": "3.7.4"
  }
 },
 "nbformat": 4,
 "nbformat_minor": 5
}
